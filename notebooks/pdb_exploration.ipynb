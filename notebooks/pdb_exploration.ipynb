{
 "cells": [
  {
   "cell_type": "code",
   "execution_count": 8,
   "metadata": {},
   "outputs": [],
   "source": [
    "import pypdb\n",
    "from pprint import pprint"
   ]
  },
  {
   "cell_type": "markdown",
   "metadata": {},
   "source": [
    "Let's query an arbitrary complex from pdb and get familiar with the returned info"
   ]
  },
  {
   "cell_type": "code",
   "execution_count": 7,
   "metadata": {},
   "outputs": [
    {
     "ename": "TypeError",
     "evalue": "'NoneType' object is not subscriptable",
     "output_type": "error",
     "traceback": [
      "\u001b[0;31m---------------------------------------------------------------------------\u001b[0m",
      "\u001b[0;31mTypeError\u001b[0m                                 Traceback (most recent call last)",
      "\u001b[0;32m<ipython-input-7-c4e35600d23d>\u001b[0m in \u001b[0;36m<module>\u001b[0;34m\u001b[0m\n\u001b[0;32m----> 1\u001b[0;31m \u001b[0mpdb_P46414_desc\u001b[0m \u001b[0;34m=\u001b[0m \u001b[0mpypdb\u001b[0m\u001b[0;34m.\u001b[0m\u001b[0mdescribe_pdb\u001b[0m\u001b[0;34m(\u001b[0m\u001b[0;34m\"Cdkn1b\"\u001b[0m\u001b[0;34m)\u001b[0m\u001b[0;34m\u001b[0m\u001b[0;34m\u001b[0m\u001b[0m\n\u001b[0m\u001b[1;32m      2\u001b[0m \u001b[0mpprint\u001b[0m\u001b[0;34m(\u001b[0m\u001b[0mpdb_P46414_desc\u001b[0m\u001b[0;34m)\u001b[0m\u001b[0;34m\u001b[0m\u001b[0;34m\u001b[0m\u001b[0m\n",
      "\u001b[0;32m/Volumes/HDD/packages/anaconda2/envs/anu/lib/python3.8/site-packages/pypdb/pypdb.py\u001b[0m in \u001b[0;36mdescribe_pdb\u001b[0;34m(pdb_id)\u001b[0m\n\u001b[1;32m    706\u001b[0m     \u001b[0mout\u001b[0m \u001b[0;34m=\u001b[0m \u001b[0mget_info\u001b[0m\u001b[0;34m(\u001b[0m\u001b[0mpdb_id\u001b[0m\u001b[0;34m,\u001b[0m \u001b[0murl_root\u001b[0m \u001b[0;34m=\u001b[0m \u001b[0;34m'http://www.rcsb.org/pdb/rest/describePDB?structureId='\u001b[0m\u001b[0;34m)\u001b[0m\u001b[0;34m\u001b[0m\u001b[0;34m\u001b[0m\u001b[0m\n\u001b[1;32m    707\u001b[0m     \u001b[0mout\u001b[0m \u001b[0;34m=\u001b[0m \u001b[0mto_dict\u001b[0m\u001b[0;34m(\u001b[0m\u001b[0mout\u001b[0m\u001b[0;34m)\u001b[0m\u001b[0;34m\u001b[0m\u001b[0;34m\u001b[0m\u001b[0m\n\u001b[0;32m--> 708\u001b[0;31m     \u001b[0mout\u001b[0m \u001b[0;34m=\u001b[0m \u001b[0mremove_at_sign\u001b[0m\u001b[0;34m(\u001b[0m\u001b[0mout\u001b[0m\u001b[0;34m[\u001b[0m\u001b[0;34m'PDBdescription'\u001b[0m\u001b[0;34m]\u001b[0m\u001b[0;34m[\u001b[0m\u001b[0;34m'PDB'\u001b[0m\u001b[0;34m]\u001b[0m\u001b[0;34m)\u001b[0m\u001b[0;34m\u001b[0m\u001b[0;34m\u001b[0m\u001b[0m\n\u001b[0m\u001b[1;32m    709\u001b[0m     \u001b[0;32mreturn\u001b[0m \u001b[0mout\u001b[0m\u001b[0;34m\u001b[0m\u001b[0;34m\u001b[0m\u001b[0m\n\u001b[1;32m    710\u001b[0m \u001b[0;34m\u001b[0m\u001b[0m\n",
      "\u001b[0;31mTypeError\u001b[0m: 'NoneType' object is not subscriptable"
     ]
    }
   ],
   "source": [
    "pdb_P46414_desc = pypdb.describe_pdb(\"Cdkn1b\")\n",
    "pprint(pdb_P46414_desc)"
   ]
  },
  {
   "cell_type": "code",
   "execution_count": 9,
   "metadata": {},
   "outputs": [
    {
     "name": "stdout",
     "output_type": "stream",
     "text": [
      "{'citation_authors': \"Parraga, A., Bellsolell, L., Ferre-D'Amare, A.R., \"\n",
      "                     'Burley, S.K.',\n",
      " 'deposition_date': '1997-06-25',\n",
      " 'expMethod': 'X-RAY DIFFRACTION',\n",
      " 'keywords': 'TRANSCRIPTION/DNA',\n",
      " 'last_modification_date': '2011-07-13',\n",
      " 'nr_atoms': '3989',\n",
      " 'nr_entities': '3',\n",
      " 'nr_residues': '404',\n",
      " 'pubmedId': '9634703',\n",
      " 'release_date': '1998-07-10',\n",
      " 'resolution': '2.30',\n",
      " 'status': 'CURRENT',\n",
      " 'structureId': '1AM9',\n",
      " 'structure_authors': 'Parraga, A., Burley, S.K.',\n",
      " 'title': 'HUMAN SREBP-1A BOUND TO LDL RECEPTOR PROMOTER'}\n"
     ]
    }
   ],
   "source": [
    "pdb_1am9_desc = pypdb.describe_pdb(\"1am9\")\n",
    "pprint(pdb_1am9_desc)"
   ]
  },
  {
   "cell_type": "code",
   "execution_count": 10,
   "metadata": {},
   "outputs": [
    {
     "name": "stdout",
     "output_type": "stream",
     "text": [
      "{'id': '1AM9',\n",
      " 'polymer': [{'@entityNr': '1',\n",
      "              '@length': '17',\n",
      "              '@type': 'dna',\n",
      "              '@weight': '5289.42',\n",
      "              'chain': [{'@id': 'E'}, {'@id': 'G'}],\n",
      "              'polymerDescription': {'@description': 'DNA '\n",
      "                                                     \"(5'-D(*TP*TP*GP*CP*AP*GP*TP*GP*GP*GP*GP*TP*GP*AP*TP*CP*T \"\n",
      "                                                     \")-3')\"}},\n",
      "             {'@entityNr': '2',\n",
      "              '@length': '21',\n",
      "              '@type': 'dna',\n",
      "              '@weight': '6361.14',\n",
      "              'chain': [{'@id': 'F'}, {'@id': 'H'}],\n",
      "              'polymerDescription': {'@description': 'DNA '\n",
      "                                                     \"(5'-D(*CP*AP*TP*GP*AP*GP*AP*TP*CP*AP*CP*CP*CP*CP*AP*CP*T \"\n",
      "                                                     \"P*GP*CP*AP*A)-3')\"}},\n",
      "             {'@entityNr': '3',\n",
      "              '@length': '82',\n",
      "              '@type': 'protein',\n",
      "              '@weight': '9492.99',\n",
      "              'Taxonomy': {'@id': '9606', '@name': 'Homo sapiens'},\n",
      "              'chain': [{'@id': 'A'}, {'@id': 'B'}, {'@id': 'C'}, {'@id': 'D'}],\n",
      "              'fragment': {'@desc': 'DNA BINDING DOMAIN'},\n",
      "              'macroMolecule': {'@name': 'Sterol regulatory element-binding '\n",
      "                                         'protein 1',\n",
      "                                'accession': {'@id': 'P36956'}},\n",
      "              'polymerDescription': {'@description': 'PROTEIN (STEROL '\n",
      "                                                     'REGULATORY ELEMENT '\n",
      "                                                     'BINDING PROTEIN 1A)'},\n",
      "              'synonym': {'@name': 'SREBP-1A'}}]}\n"
     ]
    }
   ],
   "source": [
    "pdb_1am9_desc_all = pypdb.get_all_info('1am9')\n",
    "pprint(pdb_1am9_desc_all)"
   ]
  },
  {
   "cell_type": "markdown",
   "metadata": {},
   "source": [
    "Let's get the pdb file for this complex"
   ]
  },
  {
   "cell_type": "code",
   "execution_count": 11,
   "metadata": {},
   "outputs": [],
   "source": [
    "pdb_1am9 = pypdb.get_pdb_file(pdb_1am9_desc_all[\"id\"])"
   ]
  },
  {
   "cell_type": "markdown",
   "metadata": {},
   "source": [
    "Now, let's parse and visualize this pdb file"
   ]
  },
  {
   "cell_type": "code",
   "execution_count": 12,
   "metadata": {},
   "outputs": [
    {
     "data": {
      "application/vnd.jupyter.widget-view+json": {
       "model_id": "e890cba625b04535b613f615beb3b502",
       "version_major": 2,
       "version_minor": 0
      },
      "text/plain": [
       "_ColormakerRegistry()"
      ]
     },
     "metadata": {},
     "output_type": "display_data"
    }
   ],
   "source": [
    "import nglview as nv\n",
    "from Bio import PDB\n",
    "import tempfile"
   ]
  },
  {
   "cell_type": "markdown",
   "metadata": {},
   "source": [
    "Create an empty NGL Widget"
   ]
  },
  {
   "cell_type": "code",
   "execution_count": 13,
   "metadata": {},
   "outputs": [
    {
     "data": {
      "application/vnd.jupyter.widget-view+json": {
       "model_id": "efb79d6f9f5d45698689731069be1315",
       "version_major": 2,
       "version_minor": 0
      },
      "text/plain": [
       "NGLWidget()"
      ]
     },
     "metadata": {},
     "output_type": "display_data"
    }
   ],
   "source": [
    "nv_view = nv.NGLWidget()\n",
    "nv_view"
   ]
  },
  {
   "cell_type": "markdown",
   "metadata": {},
   "source": [
    "Parsing pdb data using biopython PDBParser"
   ]
  },
  {
   "cell_type": "code",
   "execution_count": 14,
   "metadata": {},
   "outputs": [
    {
     "name": "stdout",
     "output_type": "stream",
     "text": [
      "/var/folders/46/9pp5st7d2mvdf79xv9pdbhfm0000gn/T/tmp836d94gn.pdb\n"
     ]
    },
    {
     "name": "stderr",
     "output_type": "stream",
     "text": [
      "/Volumes/HDD/packages/anaconda2/envs/anu/lib/python3.8/site-packages/Bio/PDB/StructureBuilder.py:89: PDBConstructionWarning: WARNING: Chain B is discontinuous at line 4599.\n",
      "  warnings.warn(\n",
      "/Volumes/HDD/packages/anaconda2/envs/anu/lib/python3.8/site-packages/Bio/PDB/StructureBuilder.py:89: PDBConstructionWarning: WARNING: Chain C is discontinuous at line 4600.\n",
      "  warnings.warn(\n",
      "/Volumes/HDD/packages/anaconda2/envs/anu/lib/python3.8/site-packages/Bio/PDB/StructureBuilder.py:89: PDBConstructionWarning: WARNING: Chain E is discontinuous at line 4601.\n",
      "  warnings.warn(\n",
      "/Volumes/HDD/packages/anaconda2/envs/anu/lib/python3.8/site-packages/Bio/PDB/StructureBuilder.py:89: PDBConstructionWarning: WARNING: Chain F is discontinuous at line 4624.\n",
      "  warnings.warn(\n",
      "/Volumes/HDD/packages/anaconda2/envs/anu/lib/python3.8/site-packages/Bio/PDB/StructureBuilder.py:89: PDBConstructionWarning: WARNING: Chain G is discontinuous at line 4657.\n",
      "  warnings.warn(\n",
      "/Volumes/HDD/packages/anaconda2/envs/anu/lib/python3.8/site-packages/Bio/PDB/StructureBuilder.py:89: PDBConstructionWarning: WARNING: Chain H is discontinuous at line 4684.\n",
      "  warnings.warn(\n",
      "/Volumes/HDD/packages/anaconda2/envs/anu/lib/python3.8/site-packages/Bio/PDB/StructureBuilder.py:89: PDBConstructionWarning: WARNING: Chain A is discontinuous at line 4724.\n",
      "  warnings.warn(\n",
      "/Volumes/HDD/packages/anaconda2/envs/anu/lib/python3.8/site-packages/Bio/PDB/StructureBuilder.py:89: PDBConstructionWarning: WARNING: Chain B is discontinuous at line 4772.\n",
      "  warnings.warn(\n",
      "/Volumes/HDD/packages/anaconda2/envs/anu/lib/python3.8/site-packages/Bio/PDB/StructureBuilder.py:89: PDBConstructionWarning: WARNING: Chain C is discontinuous at line 4810.\n",
      "  warnings.warn(\n",
      "/Volumes/HDD/packages/anaconda2/envs/anu/lib/python3.8/site-packages/Bio/PDB/StructureBuilder.py:89: PDBConstructionWarning: WARNING: Chain D is discontinuous at line 4858.\n",
      "  warnings.warn(\n"
     ]
    },
    {
     "data": {
      "text/plain": [
       "<Structure id=SREBP-1A>"
      ]
     },
     "execution_count": 14,
     "metadata": {},
     "output_type": "execute_result"
    }
   ],
   "source": [
    "with tempfile.NamedTemporaryFile(suffix=\".pdb\", mode=\"a+\") as file:\n",
    "    file.write(pdb_1am9)\n",
    "    # seek to 0 to reset file pointer\n",
    "    file.seek(0)\n",
    "    print(file.name)\n",
    "    structure_1am9 = PDB.PDBParser().get_structure(\"SREBP-1A\", file)\n",
    "structure_1am9"
   ]
  },
  {
   "cell_type": "markdown",
   "metadata": {},
   "source": [
    "Uncomment this for viewing the entire complex"
   ]
  },
  {
   "cell_type": "code",
   "execution_count": 8,
   "metadata": {},
   "outputs": [
    {
     "data": {
      "text/plain": [
       "<nglview.component.ComponentViewer at 0x117560a30>"
      ]
     },
     "execution_count": 8,
     "metadata": {},
     "output_type": "execute_result"
    }
   ],
   "source": [
    "#nv_view.add_structure(nv.adaptor.BiopythonStructure(structure_1am9))"
   ]
  },
  {
   "cell_type": "markdown",
   "metadata": {},
   "source": [
    "Adding only the molecule of interest to the visualization"
   ]
  },
  {
   "cell_type": "code",
   "execution_count": 15,
   "metadata": {},
   "outputs": [],
   "source": [
    "for chain in [\"A\", \"B\", \"C\", \"D\"]:\n",
    "    nv_view.add_structure(nv.adaptor.BiopythonStructure(structure_1am9[0][chain]))\n",
    "    "
   ]
  },
  {
   "cell_type": "markdown",
   "metadata": {},
   "source": [
    "Extracting sequence data from structure"
   ]
  },
  {
   "cell_type": "code",
   "execution_count": 17,
   "metadata": {
    "scrolled": true
   },
   "outputs": [
    {
     "data": {
      "text/plain": [
       "Seq('QSRGEKRTAHNAIEKRYRSSINDKIIELKDLVVGTEAKLNKSAVLRKAIDYIRF...SLK', ProteinAlphabet())"
      ]
     },
     "execution_count": 17,
     "metadata": {},
     "output_type": "execute_result"
    }
   ],
   "source": [
    "seq_chainA = PDB.PPBuilder().build_peptides(structure_1am9[0][\"A\"])[0].get_sequence()\n",
    "seq_chainA"
   ]
  },
  {
   "cell_type": "code",
   "execution_count": 21,
   "metadata": {},
   "outputs": [
    {
     "data": {
      "text/plain": [
       "6"
      ]
     },
     "execution_count": 21,
     "metadata": {},
     "output_type": "execute_result"
    }
   ],
   "source": [
    "seq_chainA.count(\"A\")"
   ]
  },
  {
   "cell_type": "markdown",
   "metadata": {},
   "source": [
    "Checking the type of the molecule"
   ]
  },
  {
   "cell_type": "code",
   "execution_count": 34,
   "metadata": {},
   "outputs": [
    {
     "data": {
      "text/plain": [
       "True"
      ]
     },
     "execution_count": 34,
     "metadata": {},
     "output_type": "execute_result"
    }
   ],
   "source": [
    "structure_1am9.header[\"compound\"][\"3\"][\"molecule\"].split(\" \")[0] == \"protein\""
   ]
  },
  {
   "cell_type": "code",
   "execution_count": null,
   "metadata": {},
   "outputs": [],
   "source": []
  }
 ],
 "metadata": {
  "kernelspec": {
   "display_name": "Python 3",
   "language": "python",
   "name": "python3"
  },
  "language_info": {
   "codemirror_mode": {
    "name": "ipython",
    "version": 3
   },
   "file_extension": ".py",
   "mimetype": "text/x-python",
   "name": "python",
   "nbconvert_exporter": "python",
   "pygments_lexer": "ipython3",
   "version": "3.8.2"
  }
 },
 "nbformat": 4,
 "nbformat_minor": 4
}
