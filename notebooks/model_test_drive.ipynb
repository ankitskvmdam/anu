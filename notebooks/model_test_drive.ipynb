{
 "cells": [
  {
   "cell_type": "code",
   "execution_count": 1,
   "metadata": {},
   "outputs": [],
   "source": [
    "%reload_ext autoreload\n",
    "%autoreload 2\n",
    "%matplotlib inline"
   ]
  },
  {
   "cell_type": "code",
   "execution_count": 2,
   "metadata": {},
   "outputs": [],
   "source": [
    "import torch\n",
    "from torch import nn\n",
    "import numpy as np\n",
    "import vaex\n",
    "import os"
   ]
  },
  {
   "cell_type": "code",
   "execution_count": 3,
   "metadata": {},
   "outputs": [
    {
     "data": {
      "text/html": [
       "<table>\n",
       "<thead>\n",
       "<tr><th>#                            </th><th>proteinA_seq           </th><th>proteinB_seq           </th><th>proteinA_x                         </th><th>proteinB_x                         </th><th>proteinA_y                         </th><th>proteinB_y                         </th><th>proteinA_z                         </th><th>proteinB_z                         </th><th>proteinA_hydropathy  </th><th>proteinB_hydropathy  </th><th>proteinA_hydropathy_index          </th><th>proteinB_hydropathy_index          </th><th>proteinA_acidity_basicity  </th><th>proteinB_acidity_basicity  </th><th>proteinA_mass                                  </th><th>proteinB_mass                                  </th><th>proteinA_isoelectric_point               </th><th>proteinB_isoelectric_point               </th><th>proteinA_charge  </th><th>proteinB_charge  </th><th>interaction  </th></tr>\n",
       "</thead>\n",
       "<tbody>\n",
       "<tr><td><i style='opacity: 0.6'>0</i></td><td>[ 6 10  3 ...  0  0  0]</td><td>[ 6 15 15 ...  0  0  0]</td><td>[-34. -31. -31. ...   0.   0.   0.]</td><td>[13. 17. 14. ...  0.  0.  0.]      </td><td>[-21. -20. -18. ...   0.   0.   0.]</td><td>[15. 14.  9. ...  0.  0.  0.]      </td><td>[23. 23. 18. ...  0.  0.  0.]      </td><td>[-65. -68. -69. ...   0.   0.   0.]</td><td>[2 2 1 ... 0 0 0]    </td><td>[2 1 1 ... 0 0 0]    </td><td>[-0.4  3.8 -3.5 ...  0.   0.   0. ]</td><td>[-0.4 -4.5 -4.5 ...  0.   0.   0. ]</td><td>[0 0 1 ... 0 0 0]          </td><td>[0 2 2 ... 0 0 0]          </td><td>[ 75.07 131.18 133.1  ...   0.     0.     0.  ]</td><td>[ 75.07 174.2  174.2  ...   0.     0.     0.  ]</td><td>[5.97 5.98 2.77 ... 0.   0.   0.  ]      </td><td>[ 5.97 11.15 11.15 ...  0.    0.    0.  ]</td><td>[0 0 2 ... 0 0 0]</td><td>[0 1 1 ... 0 0 0]</td><td>[1 0]        </td></tr>\n",
       "<tr><td><i style='opacity: 0.6'>1</i></td><td>[ 6 15 15 ...  0  0  0]</td><td>[ 6 10  3 ...  0  0  0]</td><td>[13. 17. 14. ...  0.  0.  0.]      </td><td>[-34. -31. -31. ...   0.   0.   0.]</td><td>[15. 14.  9. ...  0.  0.  0.]      </td><td>[-21. -20. -18. ...   0.   0.   0.]</td><td>[-65. -68. -69. ...   0.   0.   0.]</td><td>[23. 23. 18. ...  0.  0.  0.]      </td><td>[2 1 1 ... 0 0 0]    </td><td>[2 2 1 ... 0 0 0]    </td><td>[-0.4 -4.5 -4.5 ...  0.   0.   0. ]</td><td>[-0.4  3.8 -3.5 ...  0.   0.   0. ]</td><td>[0 2 2 ... 0 0 0]          </td><td>[0 0 1 ... 0 0 0]          </td><td>[ 75.07 174.2  174.2  ...   0.     0.     0.  ]</td><td>[ 75.07 131.18 133.1  ...   0.     0.     0.  ]</td><td>[ 5.97 11.15 11.15 ...  0.    0.    0.  ]</td><td>[5.97 5.98 2.77 ... 0.   0.   0.  ]      </td><td>[0 1 1 ... 0 0 0]</td><td>[0 0 2 ... 0 0 0]</td><td>[0 1]        </td></tr>\n",
       "<tr><td><i style='opacity: 0.6'>2</i></td><td>[ 6 10  3 ...  0  0  0]</td><td>[ 6 15 15 ...  0  0  0]</td><td>[-34. -31. -31. ...   0.   0.   0.]</td><td>[13. 17. 14. ...  0.  0.  0.]      </td><td>[-21. -20. -18. ...   0.   0.   0.]</td><td>[15. 14.  9. ...  0.  0.  0.]      </td><td>[23. 23. 18. ...  0.  0.  0.]      </td><td>[-65. -68. -69. ...   0.   0.   0.]</td><td>[2 2 1 ... 0 0 0]    </td><td>[2 1 1 ... 0 0 0]    </td><td>[-0.4  3.8 -3.5 ...  0.   0.   0. ]</td><td>[-0.4 -4.5 -4.5 ...  0.   0.   0. ]</td><td>[0 0 1 ... 0 0 0]          </td><td>[0 2 2 ... 0 0 0]          </td><td>[ 75.07 131.18 133.1  ...   0.     0.     0.  ]</td><td>[ 75.07 174.2  174.2  ...   0.     0.     0.  ]</td><td>[5.97 5.98 2.77 ... 0.   0.   0.  ]      </td><td>[ 5.97 11.15 11.15 ...  0.    0.    0.  ]</td><td>[0 0 2 ... 0 0 0]</td><td>[0 1 1 ... 0 0 0]</td><td>[1 0]        </td></tr>\n",
       "</tbody>\n",
       "</table>"
      ],
      "text/plain": [
       "  #  proteinA_seq             proteinB_seq             proteinA_x                           proteinB_x                           proteinA_y                           proteinB_y                           proteinA_z                           proteinB_z                           proteinA_hydropathy    proteinB_hydropathy    proteinA_hydropathy_index            proteinB_hydropathy_index            proteinA_acidity_basicity    proteinB_acidity_basicity    proteinA_mass                                    proteinB_mass                                    proteinA_isoelectric_point                 proteinB_isoelectric_point                 proteinA_charge    proteinB_charge    interaction\n",
       "  0  [ 6 10  3 ...  0  0  0]  [ 6 15 15 ...  0  0  0]  [-34. -31. -31. ...   0.   0.   0.]  [13. 17. 14. ...  0.  0.  0.]        [-21. -20. -18. ...   0.   0.   0.]  [15. 14.  9. ...  0.  0.  0.]        [23. 23. 18. ...  0.  0.  0.]        [-65. -68. -69. ...   0.   0.   0.]  [2 2 1 ... 0 0 0]      [2 1 1 ... 0 0 0]      [-0.4  3.8 -3.5 ...  0.   0.   0. ]  [-0.4 -4.5 -4.5 ...  0.   0.   0. ]  [0 0 1 ... 0 0 0]            [0 2 2 ... 0 0 0]            [ 75.07 131.18 133.1  ...   0.     0.     0.  ]  [ 75.07 174.2  174.2  ...   0.     0.     0.  ]  [5.97 5.98 2.77 ... 0.   0.   0.  ]        [ 5.97 11.15 11.15 ...  0.    0.    0.  ]  [0 0 2 ... 0 0 0]  [0 1 1 ... 0 0 0]  [1 0]\n",
       "  1  [ 6 15 15 ...  0  0  0]  [ 6 10  3 ...  0  0  0]  [13. 17. 14. ...  0.  0.  0.]        [-34. -31. -31. ...   0.   0.   0.]  [15. 14.  9. ...  0.  0.  0.]        [-21. -20. -18. ...   0.   0.   0.]  [-65. -68. -69. ...   0.   0.   0.]  [23. 23. 18. ...  0.  0.  0.]        [2 1 1 ... 0 0 0]      [2 2 1 ... 0 0 0]      [-0.4 -4.5 -4.5 ...  0.   0.   0. ]  [-0.4  3.8 -3.5 ...  0.   0.   0. ]  [0 2 2 ... 0 0 0]            [0 0 1 ... 0 0 0]            [ 75.07 174.2  174.2  ...   0.     0.     0.  ]  [ 75.07 131.18 133.1  ...   0.     0.     0.  ]  [ 5.97 11.15 11.15 ...  0.    0.    0.  ]  [5.97 5.98 2.77 ... 0.   0.   0.  ]        [0 1 1 ... 0 0 0]  [0 0 2 ... 0 0 0]  [0 1]\n",
       "  2  [ 6 10  3 ...  0  0  0]  [ 6 15 15 ...  0  0  0]  [-34. -31. -31. ...   0.   0.   0.]  [13. 17. 14. ...  0.  0.  0.]        [-21. -20. -18. ...   0.   0.   0.]  [15. 14.  9. ...  0.  0.  0.]        [23. 23. 18. ...  0.  0.  0.]        [-65. -68. -69. ...   0.   0.   0.]  [2 2 1 ... 0 0 0]      [2 1 1 ... 0 0 0]      [-0.4  3.8 -3.5 ...  0.   0.   0. ]  [-0.4 -4.5 -4.5 ...  0.   0.   0. ]  [0 0 1 ... 0 0 0]            [0 2 2 ... 0 0 0]            [ 75.07 131.18 133.1  ...   0.     0.     0.  ]  [ 75.07 174.2  174.2  ...   0.     0.     0.  ]  [5.97 5.98 2.77 ... 0.   0.   0.  ]        [ 5.97 11.15 11.15 ...  0.    0.    0.  ]  [0 0 2 ... 0 0 0]  [0 1 1 ... 0 0 0]  [1 0]"
      ]
     },
     "execution_count": 3,
     "metadata": {},
     "output_type": "execute_result"
    }
   ],
   "source": [
    "path = os.path.join(\"..\", \"data\", \"processed\", \"test\", \"test_1.arrow\")\n",
    "df = vaex.open(path)\n",
    "df"
   ]
  },
  {
   "cell_type": "code",
   "execution_count": 5,
   "metadata": {},
   "outputs": [],
   "source": [
    "from anu.models.cnn.loader import InteractionClassificationDataset"
   ]
  },
  {
   "cell_type": "code",
   "execution_count": 6,
   "metadata": {},
   "outputs": [],
   "source": [
    "from torch.utils.data import DataLoader"
   ]
  },
  {
   "cell_type": "code",
   "execution_count": 7,
   "metadata": {},
   "outputs": [],
   "source": [
    "int_dataset = InteractionClassificationDataset(path)"
   ]
  },
  {
   "cell_type": "code",
   "execution_count": 8,
   "metadata": {},
   "outputs": [],
   "source": [
    "int_dataloader = DataLoader(int_dataset, batch_size=2, shuffle=True, num_workers=0)"
   ]
  },
  {
   "cell_type": "code",
   "execution_count": 21,
   "metadata": {},
   "outputs": [],
   "source": [
    "part2 = nn.Sequential(\n",
    "            # 2D convolution layer\n",
    "            nn.Conv2d(1, 10, kernel_size=3, stride=1, padding=1),\n",
    "            nn.BatchNorm2d(10),\n",
    "            nn.ReLU(inplace=True),\n",
    "            nn.MaxPool2d(kernel_size=2, stride=2),\n",
    "            # 2D convolution layer\n",
    "            nn.Conv2d(10, 30, kernel_size=3, stride=1, padding=1),\n",
    "            nn.BatchNorm2d(30),\n",
    "            nn.ReLU(inplace=True),\n",
    "            nn.MaxPool2d(kernel_size=2, stride=2),\n",
    "            # 2D convolution layer\n",
    "            nn.Conv2d(30, 30, kernel_size=3, stride=1, padding=1),\n",
    "            nn.BatchNorm2d(30),\n",
    "            nn.ReLU(inplace=True),\n",
    "            nn.MaxPool2d(kernel_size=2, stride=2)\n",
    ")"
   ]
  },
  {
   "cell_type": "code",
   "execution_count": 23,
   "metadata": {},
   "outputs": [
    {
     "name": "stderr",
     "output_type": "stream",
     "text": [
      "[autoreload of anu.models.cnn.model failed: Traceback (most recent call last):\n",
      "  File \"/Volumes/HDD/packages/anaconda2/envs/anu/lib/python3.8/site-packages/IPython/extensions/autoreload.py\", line 245, in check\n",
      "    superreload(m, reload, self.old_objects)\n",
      "  File \"/Volumes/HDD/packages/anaconda2/envs/anu/lib/python3.8/site-packages/IPython/extensions/autoreload.py\", line 394, in superreload\n",
      "    module = reload(module)\n",
      "  File \"/Volumes/HDD/packages/anaconda2/envs/anu/lib/python3.8/imp.py\", line 314, in reload\n",
      "    return importlib.reload(module)\n",
      "  File \"/Volumes/HDD/packages/anaconda2/envs/anu/lib/python3.8/importlib/__init__.py\", line 159, in reload\n",
      "    raise ImportError(msg.format(parent_name),\n",
      "ImportError: parent 'anu.models.cnn' not in sys.modules\n",
      "]\n"
     ]
    }
   ],
   "source": [
    "fcn = nn.Sequential(\n",
    "            nn.Linear(30 * 1 * 500, 1500),\n",
    "            nn.ReLU(inplace=True),\n",
    "            nn.Linear(1500, 120),\n",
    "            nn.ReLU(inplace=True),\n",
    "            nn.Linear(120, 12),\n",
    "            nn.ReLU(inplace=True),\n",
    "            nn.Linear(12, 2),\n",
    "        )"
   ]
  },
  {
   "cell_type": "code",
   "execution_count": 25,
   "metadata": {},
   "outputs": [
    {
     "name": "stdout",
     "output_type": "stream",
     "text": [
      "torch.Size([2, 30, 1, 500])\n",
      "tensor([[[[4.4932, 2.9787, 3.2913,  ..., 0.1757, 0.1757, 0.1836]],\n",
      "\n",
      "         [[1.9308, 0.4355, 0.1256,  ..., 0.2395, 0.2395, 0.2346]],\n",
      "\n",
      "         [[8.2406, 6.5865, 5.9405,  ..., 0.0429, 0.0429, 0.1640]],\n",
      "\n",
      "         ...,\n",
      "\n",
      "         [[6.5146, 5.6253, 6.3229,  ..., 0.0000, 0.0000, 0.0000]],\n",
      "\n",
      "         [[0.0000, 0.0000, 0.0000,  ..., 0.2617, 0.2617, 0.2891]],\n",
      "\n",
      "         [[6.1534, 1.0316, 1.0018,  ..., 0.1710, 0.1710, 0.4959]]],\n",
      "\n",
      "\n",
      "        [[[3.5668, 3.5741, 2.9892,  ..., 0.1757, 0.1757, 0.1836]],\n",
      "\n",
      "         [[1.7045, 1.4150, 1.6701,  ..., 0.2395, 0.2395, 0.2346]],\n",
      "\n",
      "         [[5.7255, 0.9436, 1.0516,  ..., 0.0429, 0.0429, 0.1640]],\n",
      "\n",
      "         ...,\n",
      "\n",
      "         [[4.6315, 5.1016, 4.8884,  ..., 0.0000, 0.0000, 0.0000]],\n",
      "\n",
      "         [[0.0000, 0.0000, 0.0000,  ..., 0.2617, 0.2617, 0.2891]],\n",
      "\n",
      "         [[0.0000, 1.1325, 1.4612,  ..., 0.1710, 0.1710, 0.4959]]]],\n",
      "       grad_fn=<MaxPool2DWithIndicesBackward>)\n",
      "torch.Size([2, 2])\n",
      "tensor([[-0.0422,  0.3368],\n",
      "        [-0.0043,  0.3218]], grad_fn=<AddmmBackward>)\n"
     ]
    }
   ],
   "source": [
    "for labels, inputs in int_dataloader:\n",
    "    output = part2(inputs.float())\n",
    "    output2 = fcn(output.view(output.size(0), -1))\n",
    "    print(output.shape)\n",
    "    print(output)\n",
    "    print(output2.shape)\n",
    "    print(output2)\n",
    "    break"
   ]
  },
  {
   "cell_type": "code",
   "execution_count": 9,
   "metadata": {},
   "outputs": [],
   "source": [
    "a, b = int_dataset[0]\n"
   ]
  },
  {
   "cell_type": "code",
   "execution_count": 31,
   "metadata": {},
   "outputs": [
    {
     "data": {
      "text/plain": [
       "tensor(0.6954, grad_fn=<NllLossBackward>)"
      ]
     },
     "execution_count": 31,
     "metadata": {},
     "output_type": "execute_result"
    }
   ],
   "source": [
    "loss = nn.CrossEntropyLoss()(output2, torch.autograd.Variable(targets)); loss"
   ]
  },
  {
   "cell_type": "code",
   "execution_count": 32,
   "metadata": {},
   "outputs": [
    {
     "data": {
      "text/plain": [
       "tensor([1, 0])"
      ]
     },
     "execution_count": 32,
     "metadata": {},
     "output_type": "execute_result"
    }
   ],
   "source": [
    "labels.max(dim=0)[1]"
   ]
  },
  {
   "cell_type": "code",
   "execution_count": 30,
   "metadata": {},
   "outputs": [
    {
     "data": {
      "text/plain": [
       "tensor([1, 0])"
      ]
     },
     "execution_count": 30,
     "metadata": {},
     "output_type": "execute_result"
    }
   ],
   "source": [
    "torch.autograd.Variable(targets)"
   ]
  },
  {
   "cell_type": "code",
   "execution_count": 34,
   "metadata": {},
   "outputs": [],
   "source": [
    "from anu.models.cnn.trainer import CNNTrainer"
   ]
  },
  {
   "cell_type": "code",
   "execution_count": 35,
   "metadata": {},
   "outputs": [
    {
     "data": {
      "text/plain": [
       "<torch.utils.data.dataloader.DataLoader at 0x7ffbfb11cfd0>"
      ]
     },
     "execution_count": 35,
     "metadata": {},
     "output_type": "execute_result"
    }
   ],
   "source": [
    "int_dataloader"
   ]
  },
  {
   "cell_type": "code",
   "execution_count": 38,
   "metadata": {},
   "outputs": [],
   "source": [
    "cnn_trainer = CNNTrainer(int_dataloader, int_dataloader)\n"
   ]
  },
  {
   "cell_type": "code",
   "execution_count": null,
   "metadata": {},
   "outputs": [],
   "source": [
    "cnn_trainer.train()\n"
   ]
  },
  {
   "cell_type": "code",
   "execution_count": null,
   "metadata": {},
   "outputs": [],
   "source": []
  }
 ],
 "metadata": {
  "kernelspec": {
   "display_name": "Python 3",
   "language": "python",
   "name": "python3"
  },
  "language_info": {
   "codemirror_mode": {
    "name": "ipython",
    "version": 3
   },
   "file_extension": ".py",
   "mimetype": "text/x-python",
   "name": "python",
   "nbconvert_exporter": "python",
   "pygments_lexer": "ipython3",
   "version": "3.8.2"
  }
 },
 "nbformat": 4,
 "nbformat_minor": 4
}
